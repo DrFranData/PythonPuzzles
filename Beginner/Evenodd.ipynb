{
 "cells": [
  {
   "cell_type": "markdown",
   "id": "29af5b39",
   "metadata": {},
   "source": [
    "[![Open In Colab](https://colab.research.google.com/assets/colab-badge.svg)](https://colab.research.google.com/github/DrFranData/PythonPuzzles/blob/main/Beginner/Evenodd.ipynb)\n",
    "<div style=\"border: 2px solid #4CAF50; border-radius: 5px; padding: 10px; background-color: #e8f5e9;\">\n",
    "    <h2 style=\"color: #2e7d32;\">🧩 Python Puzzle Time!</h2>\n",
    "    <p style=\"font-size: 16px;\">Welcome to today's Python challenge! 🐍 In this puzzle, you'll be working with <strong>Python code snippets</strong> where you need to either <strong>fill in the blanks</strong>, <strong>write short code/functions</strong> or <strong>guess the output</strong>. This is a fun way to test and sharpen your Python skills. Ready to dive in and solve it?</p>\n",
    "    <p style=\"font-size: 16px; color: #388e3c;\"><strong>Give it your best shot!</strong></p>\n",
    "</div>\n",
    " "
   ]
  },
  {
   "cell_type": "markdown",
   "id": "bf688522",
   "metadata": {},
   "source": [
    "📖 Concepts You Need:\n",
    "\n",
    "**Variables**: Storing the user's number.\n",
    "\n",
    "**User Input**: Using `input()` to get a number from the user.\n",
    "\n",
    "**Conditionals**: Using `if` statements to check whether a condition is true.\n",
    "\n",
    "**Modulo Operator**: Using `%` to find the remainder of division."
   ]
  },
  {
   "cell_type": "markdown",
   "id": "c96e4f1d",
   "metadata": {},
   "source": [
    "### 🧩 Puzzle: Even or Odd?\n",
    "Write a Python program that asks the user for a number and tells them whether it is even or odd. The program should work like this:\n",
    "\n",
    "```\n",
    "Enter a number:\n",
    "42\n",
    "42 is an even number.\n",
    "```\n",
    "Or:\n",
    "\n",
    "```\n",
    "Enter a number:\n",
    "15\n",
    "15 is an odd number.\n",
    "```"
   ]
  },
  {
   "cell_type": "code",
   "execution_count": null,
   "id": "97afbc1e",
   "metadata": {},
   "outputs": [],
   "source": [
    "# your code here"
   ]
  },
  {
   "cell_type": "markdown",
   "id": "f6cfd655",
   "metadata": {},
   "source": [
    "🔑 Hints:\n",
    "\n",
    "To check if a number is even, use the modulo operator `%`. A number is even if `number % 2 == 0` and odd if number `% 2 != 0`."
   ]
  },
  {
   "cell_type": "markdown",
   "id": "a625d267",
   "metadata": {},
   "source": [
    "<details>\n",
    "  <summary><b>✅ Show Solution</b></summary>\n",
    "\n",
    "```python \n",
    "# Ask the user for a number and convert it to an integer\n",
    "number = int(input(\"Enter a number: \"))\n",
    "\n",
    "# Check if the number is even or odd\n",
    "if number % 2 == 0:\n",
    "    print(str(number) + \" is an even number.\")\n",
    "else:\n",
    "    print(str(number) + \" is an odd number.\")\n",
    "```\n",
    " </details>    "
   ]
  },
  {
   "cell_type": "code",
   "execution_count": null,
   "id": "08c8a434",
   "metadata": {},
   "outputs": [],
   "source": []
  }
 ],
 "metadata": {
  "kernelspec": {
   "display_name": "Python 3 (ipykernel)",
   "language": "python",
   "name": "python3"
  },
  "language_info": {
   "codemirror_mode": {
    "name": "ipython",
    "version": 3
   },
   "file_extension": ".py",
   "mimetype": "text/x-python",
   "name": "python",
   "nbconvert_exporter": "python",
   "pygments_lexer": "ipython3",
   "version": "3.10.9"
  }
 },
 "nbformat": 4,
 "nbformat_minor": 5
}
