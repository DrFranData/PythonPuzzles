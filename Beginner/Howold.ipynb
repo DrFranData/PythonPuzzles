{
 "cells": [
  {
   "cell_type": "markdown",
   "id": "29af5b39",
   "metadata": {},
   "source": [
    "[![Open In Colab](https://colab.research.google.com/assets/colab-badge.svg)](https://colab.research.google.com/github/DrFranData/PythonPuzzles/blob/main/Beginner/Howold.ipynb)\n",
    "<div style=\"border: 2px solid #4CAF50; border-radius: 5px; padding: 10px; background-color: #e8f5e9;\">\n",
    "    <h2 style=\"color: #2e7d32;\">🧩 Python Puzzle Time!</h2>\n",
    "    <p style=\"font-size: 16px;\">Welcome to today's Python challenge! 🐍 In this puzzle, you'll be working with <strong>Python code snippets</strong> where you need to either <strong>fill in the blanks</strong>, <strong>write short code/functions</strong> or <strong>guess the output</strong>. This is a fun way to test and sharpen your Python skills. Ready to dive in and solve it?</p>\n",
    "    <p style=\"font-size: 16px; color: #388e3c;\"><strong>Give it your best shot!</strong></p>\n",
    "</div>\n",
    " "
   ]
  },
  {
   "cell_type": "markdown",
   "id": "bf688522",
   "metadata": {},
   "source": [
    "📖 Concepts You Need:\n",
    "\n",
    "**Variables**: Storing values (like numbers).\n",
    "\n",
    "**User Input**: Using `input()` to get the user's age.\n",
    "\n",
    "**Data Types**: Converting input from a string to a number using `int()`.\n",
    "\n",
    "**Arithmetic**: Adding numbers using `+`.\n"
   ]
  },
  {
   "cell_type": "markdown",
   "id": "c96e4f1d",
   "metadata": {},
   "source": [
    "### 🧩 Puzzle: \"How Old Will You Be in 5 Years?\"\n",
    "\n",
    "Write a Python program that asks the user how old they are, then calculates how old they will be in 5 years and prints the result. The program should look like this:\n",
    "\n",
    "```\n",
    "How old are you?\n",
    "20\n",
    "In 5 years, you will be 25 years old.\n",
    "```\n"
   ]
  },
  {
   "cell_type": "code",
   "execution_count": null,
   "id": "97afbc1e",
   "metadata": {},
   "outputs": [],
   "source": [
    "# your code here"
   ]
  },
  {
   "cell_type": "markdown",
   "id": "f6cfd655",
   "metadata": {},
   "source": [
    "🔑 Hints:\n",
    "Remember that `input()` gives a string, so you’ll need to convert it into an integer using `int()`."
   ]
  },
  {
   "cell_type": "markdown",
   "id": "a625d267",
   "metadata": {},
   "source": [
    "<details>\n",
    "  <summary><b>✅ Show Solution</b></summary>\n",
    "\n",
    "```python \n",
    "# Ask the user for their age and convert it to an integer\n",
    "age = int(input(\"How old are you? \"))\n",
    "\n",
    "# Calculate their age in 5 years\n",
    "age_in_5_years = age + 5\n",
    "\n",
    "# Print the result\n",
    "print(\"In 5 years, you will be \" + str(age_in_5_years) + \" years old.\")\n",
    "```\n",
    " </details>    "
   ]
  },
  {
   "cell_type": "code",
   "execution_count": null,
   "id": "90b7c34a",
   "metadata": {},
   "outputs": [],
   "source": []
  }
 ],
 "metadata": {
  "kernelspec": {
   "display_name": "Python 3 (ipykernel)",
   "language": "python",
   "name": "python3"
  },
  "language_info": {
   "codemirror_mode": {
    "name": "ipython",
    "version": 3
   },
   "file_extension": ".py",
   "mimetype": "text/x-python",
   "name": "python",
   "nbconvert_exporter": "python",
   "pygments_lexer": "ipython3",
   "version": "3.10.9"
  }
 },
 "nbformat": 4,
 "nbformat_minor": 5
}
