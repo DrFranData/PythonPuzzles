{
 "cells": [
  {
   "cell_type": "markdown",
   "id": "29af5b39",
   "metadata": {},
   "source": [
    "[![Open In Colab](https://colab.research.google.com/assets/colab-badge.svg)](https://colab.research.google.com/github/DrFranData/PythonPuzzles/blob/main/Beginner/whatsyourname.ipynb)\n",
    "<div style=\"border: 2px solid #4CAF50; border-radius: 5px; padding: 10px; background-color: #e8f5e9;\">\n",
    "    <h2 style=\"color: #2e7d32;\">🧩 Python Puzzle Time!</h2>\n",
    "    <p style=\"font-size: 16px;\">Welcome to today's Python challenge! 🐍 In this puzzle, you'll be working with <strong>Python code snippets</strong> where you need to either <strong>fill in the blanks</strong>, <strong>write short code/functions</strong> or <strong>guess the output</strong>. This is a fun way to test and sharpen your Python skills. Ready to dive in and solve it?</p>\n",
    "    <p style=\"font-size: 16px; color: #388e3c;\"><strong>Give it your best shot!</strong></p>\n",
    "</div>\n",
    " "
   ]
  },
  {
   "cell_type": "markdown",
   "id": "bf688522",
   "metadata": {},
   "source": [
    "📖 Concepts You Need:\n",
    "\n",
    "**Variables**: A way to store information.\n",
    "\n",
    "**User Input**: Using the `input()` function to ask the user for data.\n",
    "\n",
    "**Printing**: Displaying output using the `print()` function.\n"
   ]
  },
  {
   "cell_type": "markdown",
   "id": "03e86a65",
   "metadata": {},
   "source": [
    "### 🧩 Puzzle: \"Hello, What's Your Name?\"\n",
    "Write a Python program that asks the user for their name and then greets them by name. The program should display something like this:\n",
    "\n",
    "```\n",
    "What is your name?\n",
    "John\n",
    "Hello, John!\n",
    "```\n"
   ]
  },
  {
   "cell_type": "code",
   "execution_count": null,
   "id": "97afbc1e",
   "metadata": {},
   "outputs": [],
   "source": [
    "# your code here"
   ]
  },
  {
   "cell_type": "markdown",
   "id": "81f049b1",
   "metadata": {},
   "source": [
    "🔑 Hints:\n",
    "Use `input()` to ask the user for their name.\n",
    "Use `print()` to create the greeting."
   ]
  },
  {
   "cell_type": "markdown",
   "id": "a625d267",
   "metadata": {},
   "source": [
    "<details>\n",
    "  <summary><b>✅ Show Solution</b></summary>\n",
    "\n",
    "```python \n",
    "# Ask the user for their name\n",
    "name = input(\"What is your name? \")\n",
    "\n",
    "# Print a greeting with the user's name\n",
    "print(\"Hello, \" + name + \"!\")\n",
    "```\n",
    " </details>    "
   ]
  }
 ],
 "metadata": {
  "kernelspec": {
   "display_name": "Python 3 (ipykernel)",
   "language": "python",
   "name": "python3"
  },
  "language_info": {
   "codemirror_mode": {
    "name": "ipython",
    "version": 3
   },
   "file_extension": ".py",
   "mimetype": "text/x-python",
   "name": "python",
   "nbconvert_exporter": "python",
   "pygments_lexer": "ipython3",
   "version": "3.10.9"
  }
 },
 "nbformat": 4,
 "nbformat_minor": 5
}
