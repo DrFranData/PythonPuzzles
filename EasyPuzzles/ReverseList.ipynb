{
 "cells": [
  {
   "cell_type": "markdown",
   "id": "29af5b39",
   "metadata": {},
   "source": [
    "[![Open In Colab](https://colab.research.google.com/assets/colab-badge.svg)](https://colab.research.google.com/github/DrFranData/PythonPuzzles/blob/main/EasyPuzzles/ReverseList.ipynb)\n",
    "<div style=\"border: 2px solid #4CAF50; border-radius: 5px; padding: 10px; background-color: #e8f5e9;\">\n",
    "    <h2 style=\"color: #2e7d32;\">🧩 Python Puzzle Time!</h2>\n",
    "    <p style=\"font-size: 16px;\">Welcome to today's Python challenge! 🐍 In this puzzle, you'll be working with <strong>Python code snippets</strong> where you need to either <strong>fill in the blanks</strong> or <strong>guess the output</strong>. This is a fun way to test and sharpen your Python skills. Ready to dive in and solve it?</p>\n",
    "    <p style=\"font-size: 16px; color: #388e3c;\"><strong>Give it your best shot!</strong></p>\n",
    "</div>\n",
    " "
   ]
  },
  {
   "cell_type": "markdown",
   "id": "bf688522",
   "metadata": {},
   "source": [
    "### Puzzle: Reverse the List\n",
    "\n",
    "Complete the function `reverse_list(lst)` to return the list in reverse order using slicing.\n",
    "\n",
    "Example:\n",
    "\n",
    "Input: [1, 2, 3, 4, 5]\n",
    "\n",
    "Output: [5, 4, 3, 2, 1]\n"
   ]
  },
  {
   "cell_type": "code",
   "execution_count": 1,
   "id": "6dec5d26",
   "metadata": {},
   "outputs": [],
   "source": [
    "def reverse_list(lst):\n",
    "    return lst[___] #what should the function return?\n"
   ]
  },
  {
   "cell_type": "code",
   "execution_count": null,
   "id": "00bd8b2d",
   "metadata": {},
   "outputs": [],
   "source": [
    "reverse_list([1,2,3]) # expected output [3,2,1]"
   ]
  },
  {
   "cell_type": "markdown",
   "id": "20ab5e4c",
   "metadata": {},
   "source": [
    "<details>\n",
    "  <summary><b>Show Solution</b></summary>\n",
    "\n",
    "```python \n",
    "def reverse_list(lst):\n",
    "    return lst[::-1] \n",
    "```\n",
    " </details>   "
   ]
  },
  {
   "cell_type": "markdown",
   "id": "7adbed31",
   "metadata": {},
   "source": [
    "### Bonus puzzle: \n",
    "It would be very inefficient, but can you think of a way of using a loop to create a reversed copy of the original list?"
   ]
  }
 ],
 "metadata": {
  "kernelspec": {
   "display_name": "Python 3 (ipykernel)",
   "language": "python",
   "name": "python3"
  },
  "language_info": {
   "codemirror_mode": {
    "name": "ipython",
    "version": 3
   },
   "file_extension": ".py",
   "mimetype": "text/x-python",
   "name": "python",
   "nbconvert_exporter": "python",
   "pygments_lexer": "ipython3",
   "version": "3.10.9"
  }
 },
 "nbformat": 4,
 "nbformat_minor": 5
}
