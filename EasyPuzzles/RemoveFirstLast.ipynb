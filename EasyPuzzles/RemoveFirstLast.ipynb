{
 "cells": [
  {
   "cell_type": "markdown",
   "id": "29af5b39",
   "metadata": {},
   "source": [
    "<div style=\"border: 2px solid #4CAF50; border-radius: 5px; padding: 10px; background-color: #e8f5e9;\">\n",
    "    <h2 style=\"color: #2e7d32;\">🧩 Python Puzzle Time!</h2>\n",
    "    <p style=\"font-size: 16px;\">Welcome to today's Python challenge! 🐍 In this puzzle, you'll be working with <strong>Python code snippets</strong> where you need to either <strong>fill in the blanks</strong> or <strong>guess the output</strong>. This is a fun way to test and sharpen your Python skills. Ready to dive in and solve it?</p>\n",
    "    <p style=\"font-size: 16px; color: #388e3c;\"><strong>Give it your best shot!</strong></p>\n",
    "</div>\n",
    " "
   ]
  },
  {
   "cell_type": "markdown",
   "id": "bf688522",
   "metadata": {},
   "source": [
    "### Puzzle: Remove the First and Last Elements\n",
    "\n",
    "Complete the function `remove_first_last(lst)` to return a list without the first and last elements.\n",
    "\n",
    "Example:\n",
    "\n",
    "Input: [10, 20, 30, 40, 50] \n",
    "\n",
    "Output: [20, 30, 40]\n"
   ]
  },
  {
   "cell_type": "code",
   "execution_count": 1,
   "id": "6dec5d26",
   "metadata": {},
   "outputs": [],
   "source": [
    "def remove_first_last(lst):\n",
    "    return lst[___]\n"
   ]
  },
  {
   "cell_type": "code",
   "execution_count": 2,
   "id": "25aec824",
   "metadata": {},
   "source": [
    "# Test the function\n",
    "print(remove_first_last([10, 20, 30, 40, 50]))  # Expected output:  [20, 30, 40]\n"
   ]
  },
  {
   "cell_type": "markdown",
   "id": "b0e28ba8",
   "metadata": {},
   "source": [
    "<details>\n",
    "  <summary><b>Show Solution</b></summary>\n",
    "\n",
    "```python \n",
    "def remove_first_last(lst):\n",
    "    return lst[1:-1]\n",
    "```\n",
    " </details>    "
   ]
  }
 ],
 "metadata": {
  "kernelspec": {
   "display_name": "Python 3 (ipykernel)",
   "language": "python",
   "name": "python3"
  },
  "language_info": {
   "codemirror_mode": {
    "name": "ipython",
    "version": 3
   },
   "file_extension": ".py",
   "mimetype": "text/x-python",
   "name": "python",
   "nbconvert_exporter": "python",
   "pygments_lexer": "ipython3",
   "version": "3.10.9"
  }
 },
 "nbformat": 4,
 "nbformat_minor": 5
}
