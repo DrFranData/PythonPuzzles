{
 "cells": [
  {
   "cell_type": "markdown",
   "id": "29af5b39",
   "metadata": {},
   "source": [
    "[![Open In Colab](https://colab.research.google.com/assets/colab-badge.svg)](https://colab.research.google.com/github/DrFranData/PythonPuzzles/blob/main/EasyPuzzles/ReverseList.ipynb)\n",
    "<div style=\"border: 2px solid #4CAF50; border-radius: 5px; padding: 10px; background-color: #e8f5e9;\">\n",
    "    <h2 style=\"color: #2e7d32;\">🧩 Python Puzzle Time!</h2>\n",
    "    <p style=\"font-size: 16px;\">Welcome to today's Python challenge! 🐍 In this puzzle, you'll be working with <strong>Python code snippets</strong> where you need to either <strong>fill in the blanks</strong> or <strong>guess the output</strong>. This is a fun way to test and sharpen your Python skills. Ready to dive in and solve it?</p>\n",
    "    <p style=\"font-size: 16px; color: #388e3c;\"><strong>Give it your best shot!</strong></p>\n",
    "</div>\n",
    " "
   ]
  },
  {
   "cell_type": "markdown",
   "id": "bf688522",
   "metadata": {},
   "source": [
    "### Puzzle: Longest Palindrome\n",
    "Write a function `longest_palindrome(s)` that finds the longest palindromic substring in a given string.\n"
   ]
  },
  {
   "cell_type": "code",
   "execution_count": 1,
   "id": "6dec5d26",
   "metadata": {},
   "outputs": [],
   "source": [
    "#def longest_palindrome(s):\n",
    "    # Your code here"
   ]
  },
  {
   "cell_type": "code",
   "execution_count": 2,
   "id": "97afbc1e",
   "metadata": {},
   "outputs": [
    {
     "name": "stdout",
     "output_type": "stream",
     "text": [
      "bab\n"
     ]
    }
   ],
   "source": [
    "# test your function\n",
    "print(longest_palindrome(\"babad\")) # Output: \"bab\" or \"aba\" (both are valid)\n"
   ]
  },
  {
   "cell_type": "markdown",
   "id": "a625d267",
   "metadata": {},
   "source": [
    "<details>\n",
    "  <summary><b>Show Solution</b></summary>\n",
    "\n",
    "```python \n",
    "def longest_palindrome(s):\n",
    "    def is_palindrome(sub):\n",
    "        return sub == sub[::-1]\n",
    "\n",
    "    longest = \"\"\n",
    "    for i in range(len(s)):\n",
    "        for j in range(i, len(s)):\n",
    "            substring = s[i:j + 1]\n",
    "            if is_palindrome(substring) and len(substring) > len(longest):\n",
    "                longest = substring\n",
    "    return longest\n",
    "\n",
    "```\n",
    " </details>    "
   ]
  },
  {
   "cell_type": "code",
   "execution_count": null,
   "id": "10b8a268",
   "metadata": {},
   "outputs": [],
   "source": []
  }
 ],
 "metadata": {
  "kernelspec": {
   "display_name": "Python 3 (ipykernel)",
   "language": "python",
   "name": "python3"
  },
  "language_info": {
   "codemirror_mode": {
    "name": "ipython",
    "version": 3
   },
   "file_extension": ".py",
   "mimetype": "text/x-python",
   "name": "python",
   "nbconvert_exporter": "python",
   "pygments_lexer": "ipython3",
   "version": "3.10.9"
  }
 },
 "nbformat": 4,
 "nbformat_minor": 5
}
